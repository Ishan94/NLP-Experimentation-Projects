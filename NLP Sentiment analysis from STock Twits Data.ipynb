{
 "cells": [
  {
   "cell_type": "markdown",
   "metadata": {},
   "source": [
    "# Project: Analyzing Stock Sentiment from Twits\n",
    "\n",
    "### Load Packages"
   ]
  },
  {
   "cell_type": "code",
   "execution_count": 1,
   "metadata": {},
   "outputs": [],
   "source": [
    "import json\n",
    "import nltk\n",
    "import os\n",
    "import random\n",
    "import re\n",
    "import torch\n",
    "\n",
    "from torch import nn, optim\n",
    "import torch.nn.functional as F"
   ]
  },
  {
   "cell_type": "markdown",
   "metadata": {},
   "source": [
    "## Introduction\n",
    "When deciding the value of a company, it's important to follow the news. For example, a product recall or natural disaster in a company's product chain. We want to be able to turn this information into a signal. Currently, the best tool for the job is a Neural Network. \n",
    "\n",
    "For this project, we use posts from the social media site [StockTwits](https://en.wikipedia.org/wiki/StockTwits). The community on StockTwits is full of investors, traders, and entrepreneurs. Each message posted is called a Twit. This is similar to Twitter's version of a post, called a Tweet. We build a model around these twits that generate a sentiment score.\n",
    "\n",
    "We've collected a bunch of twits, then hand labeled the sentiment of each. To capture the degree of sentiment, we'll use a five-point scale: very negative, negative, neutral, positive, very positive. Each twit is labeled -2 to 2 in steps of 1, from very negative to very positive respectively. We build a sentiment analysis model that will learn to assign sentiment to twits on its own, using this labeled data.\n",
    "\n",
    "The first thing we should to do, is load the data.\n",
    "\n",
    "## Import Twits \n",
    "### Load Twits Data \n",
    "This JSON file contains a list of objects for each twit in the `'data'` field:\n",
    "\n",
    "```\n",
    "{'data':\n",
    "  {'message_body': 'Neutral twit body text here',\n",
    "   'sentiment': 0},\n",
    "  {'message_body': 'Happy twit body text here',\n",
    "   'sentiment': 1},\n",
    "   ...\n",
    "}\n",
    "```\n",
    "\n",
    "The fields represent the following:\n",
    "\n",
    "* `'message_body'`: The text of the twit.\n",
    "* `'sentiment'`: Sentiment score for the twit, ranges from -2 to 2 in steps of 1, with 0 being neutral.\n",
    "\n",
    "\n",
    "To see what the data look like by printing the first 10 twits from the list. "
   ]
  },
  {
   "cell_type": "code",
   "execution_count": 2,
   "metadata": {},
   "outputs": [
    {
     "name": "stdout",
     "output_type": "stream",
     "text": [
      "[{'message_body': '$FITB great buy at 26.00...ill wait', 'sentiment': 2, 'timestamp': '2018-07-01T00:00:09Z'}, {'message_body': '@StockTwits $MSFT', 'sentiment': 1, 'timestamp': '2018-07-01T00:00:42Z'}, {'message_body': '#STAAnalystAlert for $TDG : Jefferies Maintains with a rating of Hold setting target price at USD 350.00. Our own verdict is Buy  http://www.stocktargetadvisor.com/toprating', 'sentiment': 2, 'timestamp': '2018-07-01T00:01:24Z'}, {'message_body': '$AMD I heard there’s a guy who knows someone who thinks somebody knows something - on StockTwits.', 'sentiment': 1, 'timestamp': '2018-07-01T00:01:47Z'}, {'message_body': '$AMD reveal yourself!', 'sentiment': 0, 'timestamp': '2018-07-01T00:02:13Z'}, {'message_body': '$AAPL Why the drop? I warren Buffet taking out his position?', 'sentiment': 1, 'timestamp': '2018-07-01T00:03:10Z'}, {'message_body': '$BA bears have 1 reason on 06-29 to pay more attention https://dividendbot.com?s=BA', 'sentiment': -2, 'timestamp': '2018-07-01T00:04:09Z'}, {'message_body': '$BAC ok good we&#39;re not dropping in price over the weekend, lol', 'sentiment': 1, 'timestamp': '2018-07-01T00:04:17Z'}, {'message_body': '$AMAT - Daily Chart, we need to get back to above 50.', 'sentiment': 2, 'timestamp': '2018-07-01T00:08:01Z'}, {'message_body': '$GME 3% drop per week after spike... if no news in 3 months, back to 12s... if BO, then bingo... what is the odds?', 'sentiment': -2, 'timestamp': '2018-07-01T00:09:03Z'}]\n"
     ]
    }
   ],
   "source": [
    "with open(os.path.join('..', '..', 'data', 'project_6_stocktwits', 'twits.json'), 'r') as f:\n",
    "    twits = json.load(f)\n",
    "\n",
    "print(twits['data'][:10])"
   ]
  },
  {
   "cell_type": "code",
   "execution_count": 3,
   "metadata": {},
   "outputs": [
    {
     "data": {
      "text/plain": [
       "{'message_body': '$FITB great buy at 26.00...ill wait',\n",
       " 'sentiment': 2,\n",
       " 'timestamp': '2018-07-01T00:00:09Z'}"
      ]
     },
     "execution_count": 3,
     "metadata": {},
     "output_type": "execute_result"
    }
   ],
   "source": [
    "twits['data'][0]"
   ]
  },
  {
   "cell_type": "markdown",
   "metadata": {},
   "source": [
    "### Length of Data\n",
    "Now let's look at the number of twits in dataset. Print the number of twits below."
   ]
  },
  {
   "cell_type": "code",
   "execution_count": 4,
   "metadata": {},
   "outputs": [
    {
     "name": "stdout",
     "output_type": "stream",
     "text": [
      "1548010\n"
     ]
    }
   ],
   "source": [
    "\"\"\"print out the number of twits\"\"\"\n",
    "\n",
    "# TODO Implement \n",
    "print(len(twits['data']))\n"
   ]
  },
  {
   "cell_type": "markdown",
   "metadata": {},
   "source": [
    "### Split Message Body and Sentiment Score"
   ]
  },
  {
   "cell_type": "code",
   "execution_count": 5,
   "metadata": {},
   "outputs": [],
   "source": [
    "messages = [twit['message_body'] for twit in twits['data']]\n",
    "# Since the sentiment scores are discrete, we'll scale the sentiments to 0 to 4 for use in our network\n",
    "sentiments = [twit['sentiment'] + 2 for twit in twits['data']]\n",
    "\n",
    "#reducing data size to prevent errors while training on cuda\n",
    "messages=messages[:300000]\n",
    "sentiments=sentiments[:300000]"
   ]
  },
  {
   "cell_type": "markdown",
   "metadata": {},
   "source": [
    "## Preprocessing the Data\n",
    "With our data in hand we need to preprocess our text. These twits are collected by filtering on ticker symbols where these are denoted with a leader $ symbol in the twit itself. For example,\n",
    "\n",
    "`{'message_body': 'RT @google Our annual look at the year in Google blogging (and beyond) http://t.co/sptHOAh8 $GOOG',\n",
    " 'sentiment': 0}`\n",
    "\n",
    "The ticker symbols don't provide information on the sentiment, and they are in every twit, so we should remove them. This twit also has the `@google` username, again not providing sentiment information, so we should also remove it. We also see a URL `http://t.co/sptHOAh8`. Let's remove these too.\n",
    "\n",
    "The easiest way to remove specific words or phrases is with regex using the `re` module. We can sub out specific patterns with a space:\n",
    "\n",
    "```python\n",
    "re.sub(pattern, ' ', text)\n",
    "```\n",
    "This will substitute a space with anywhere the pattern matches in the text. Later when we tokenize the text, we'll split appropriately on those spaces."
   ]
  },
  {
   "cell_type": "markdown",
   "metadata": {},
   "source": [
    "### Pre-Processing"
   ]
  },
  {
   "cell_type": "code",
   "execution_count": 6,
   "metadata": {},
   "outputs": [
    {
     "name": "stdout",
     "output_type": "stream",
     "text": [
      "[nltk_data] Downloading package wordnet to /root/nltk_data...\n"
     ]
    }
   ],
   "source": [
    "nltk.download('wordnet')\n",
    "\n",
    "\n",
    "def preprocess(message):\n",
    "    \"\"\"\n",
    "    This function takes a string as input, then performs these operations: \n",
    "        - lowercase\n",
    "        - remove URLs\n",
    "        - remove ticker symbols \n",
    "        - removes punctuation\n",
    "        - tokenize by splitting the string on whitespace \n",
    "        - removes any single character tokens\n",
    "    \n",
    "    Parameters\n",
    "    ----------\n",
    "        message : The text message to be preprocessed.\n",
    "        \n",
    "    Returns\n",
    "    -------\n",
    "        tokens: The preprocessed text into tokens.\n",
    "    \"\"\" \n",
    "    #TODO: Implement \n",
    "    \n",
    "    # Lowercase the twit message\n",
    "    text = message.lower()\n",
    "    \n",
    "    # Replace URLs with a space in the message\n",
    "    text = re.sub(r'http[:./\\w]+',' ',text)\n",
    "    \n",
    "    # Replace ticker symbols with a space. The ticker symbols are any stock symbol that starts with $.\n",
    "    text = re.sub(r'\\$[\\w]+','',text)\n",
    "    \n",
    "    # Replace StockTwits usernames with a space. The usernames are any word that starts with @.\n",
    "    text = re.sub(r'\\@[\\w]+','',text)\n",
    "\n",
    "    # Replace everything not a letter with a space\n",
    "    text = re.sub(r'[^a-zA-Z]',' ',text)\n",
    "    \n",
    "    # Tokenize by splitting the string on whitespace into a list of words\n",
    "    tokens = text.split()\n",
    "\n",
    "    # Lemmatize words using the WordNetLemmatizer. We can ignore any word that is not longer than one character.\n",
    "    wnl = nltk.stem.WordNetLemmatizer()\n",
    "    tokens = [nltk.stem.WordNetLemmatizer().lemmatize(w) for w in tokens]\n",
    "\n",
    "    \n",
    "    assert type(tokens) == list, 'Tokens should be list'\n",
    "    return tokens"
   ]
  },
  {
   "cell_type": "markdown",
   "metadata": {},
   "source": [
    ">Note: We have ensured that after preprocessing the text should NOT include:\n",
    "- Numbers\n",
    "- URLs\n",
    "- Single character tokens\n",
    "- Ticker symbols (these should be removed even if they don't appear at the beginning)"
   ]
  },
  {
   "cell_type": "markdown",
   "metadata": {},
   "source": [
    "### Preprocess All the Twits \n",
    "Now we can preprocess each of the twits in our dataset. Apply the function `preprocess` to all the twit messages."
   ]
  },
  {
   "cell_type": "code",
   "execution_count": 7,
   "metadata": {},
   "outputs": [],
   "source": [
    "# TODO Implement\n",
    "\n",
    "tokenized = [preprocess(message) for message in messages]"
   ]
  },
  {
   "cell_type": "markdown",
   "metadata": {},
   "source": [
    "### Bag of Words\n",
    "Now with all of our messages tokenized, we want to create a vocabulary and count up how often each word appears in our entire corpus. Use the [`Counter`](https://docs.python.org/3.1/library/collections.html#collections.Counter) function to count up all the tokens."
   ]
  },
  {
   "cell_type": "code",
   "execution_count": 8,
   "metadata": {},
   "outputs": [],
   "source": [
    "from collections import Counter\n",
    "\n",
    "\n",
    "\"\"\"\n",
    "Create a vocabulary by using Bag of words\n",
    "\"\"\"\n",
    "\n",
    "# TODO: Implement \n",
    "\n",
    "bow = Counter([x for item in tokenized for x in item])"
   ]
  },
  {
   "cell_type": "code",
   "execution_count": 9,
   "metadata": {},
   "outputs": [
    {
     "data": {
      "text/plain": [
       "3804565"
      ]
     },
     "execution_count": 9,
     "metadata": {},
     "output_type": "execute_result"
    }
   ],
   "source": [
    "len([x for item in tokenized for x in item])"
   ]
  },
  {
   "cell_type": "markdown",
   "metadata": {},
   "source": [
    "### Frequency of Words Appearing in Message\n",
    "With our vocabulary, now we'll remove some of the most common words such as 'the', 'and', 'it', etc. These words don't contribute to identifying sentiment and are really common, resulting in a lot of noise in our input. If we can filter these out, then our network should have an easier time learning.\n",
    "\n",
    "We also want to remove really rare words that show up in a only a few twits. Here we want to divide the count of each word by the **number of messages** calculated in the code block above (i.e. `len(messages))`. Then remove words that only appear in some small fraction of the messages.\n",
    "\n",
    ">Note: There is not an exact number for low and high-frequency cut-offs, however there is a correct optimal range.\n",
    "Ideally set up low-frequency cut-off from 0.0000002 to 0.000007 (inclusive) and high-frequency from 5 to 20 (inclusive). If the number is too big, we lose lots of important words that we can use in our data."
   ]
  },
  {
   "cell_type": "code",
   "execution_count": 10,
   "metadata": {},
   "outputs": [
    {
     "name": "stdout",
     "output_type": "stream",
     "text": [
      "['amp', 'to', 'the', 'utm', 'a', 'for', 'is', 'on', 's', 'of', 'in', 'and', 'this', 'it', 'i', 'at', 'will', 'metric', 'up', 'source']\n"
     ]
    },
    {
     "data": {
      "text/plain": [
       "43272"
      ]
     },
     "execution_count": 10,
     "metadata": {},
     "output_type": "execute_result"
    }
   ],
   "source": [
    "\"\"\"\n",
    "Set the following variables:\n",
    "    freqs\n",
    "    low_cutoff\n",
    "    high_cutoff\n",
    "    K_most_common\n",
    "\"\"\"\n",
    "\n",
    "# TODO Implement \n",
    "\n",
    "# Dictionart that contains the Frequency of words appearing in messages.\n",
    "# The key is the token and the value is the frequency of that word in the corpus.\n",
    "freqs = bow\n",
    "\n",
    "# Float that is the frequency cutoff. Drop words with a frequency that is lower or equal to this number.\n",
    "low_cutoff = 0.0000002\n",
    "\n",
    "# Integer that is the cut off for most common words. Drop words that are the `high_cutoff` most common words.\n",
    "high_cutoff = 20\n",
    "\n",
    "# The k most common words in the corpus. Use `high_cutoff` as the k.\n",
    "K_most_common = [w[0] for w in bow.most_common(high_cutoff)]\n",
    "\n",
    "\n",
    "filtered_words = [word for word in freqs.keys() if ((freqs[word]/len(messages) > low_cutoff) and \n",
    "                                                    (word not in K_most_common))]\n",
    "print(K_most_common)\n",
    "len(filtered_words)"
   ]
  },
  {
   "cell_type": "code",
   "execution_count": 11,
   "metadata": {},
   "outputs": [
    {
     "data": {
      "text/plain": [
       "[]"
      ]
     },
     "execution_count": 11,
     "metadata": {},
     "output_type": "execute_result"
    }
   ],
   "source": [
    "[word for word in freqs.keys() if (freqs[word]/len(messages) < low_cutoff)]"
   ]
  },
  {
   "cell_type": "code",
   "execution_count": 12,
   "metadata": {},
   "outputs": [
    {
     "data": {
      "text/plain": [
       "True"
      ]
     },
     "execution_count": 12,
     "metadata": {},
     "output_type": "execute_result"
    }
   ],
   "source": [
    "'google' in filtered_words"
   ]
  },
  {
   "cell_type": "markdown",
   "metadata": {},
   "source": [
    "### Updating Vocabulary by Removing Filtered Words\n",
    "Let's creat three variables that will help with our vocabulary."
   ]
  },
  {
   "cell_type": "code",
   "execution_count": 13,
   "metadata": {},
   "outputs": [],
   "source": [
    "\"\"\"\n",
    "Set the following variables:\n",
    "    vocab\n",
    "    id2vocab\n",
    "    filtered\n",
    "\"\"\"\n",
    "\n",
    "#TODO Implement\n",
    "\n",
    "# A dictionary for the `filtered_words`. The key is the word and value is an id that represents the word. \n",
    "vocab = {w:i for i,w in enumerate(filtered_words)}\n",
    "# Reverse of the `vocab` dictionary. The key is word id and value is the word. \n",
    "id2vocab = dict(enumerate(filtered_words))\n",
    "# tokenized with the words not in `filtered_words` removed.\n",
    "filtered = [[word for word in item if word not in K_most_common] for item in tokenized]\n",
    "\n",
    "assert set(vocab.keys()) == set(id2vocab.values()), 'Check vocab and id2vocab dictionaries'"
   ]
  },
  {
   "cell_type": "markdown",
   "metadata": {},
   "source": [
    "### Balancing the classes\n",
    "Let's do a few last pre-processing steps. If we look at how our twits are labeled, we'll find that 50% of them are neutral. This means that our network will be 50% accurate just by guessing 0 every single time. To help our network learn appropriately, we'll want to balance our classes.\n",
    "That is, make sure each of our different sentiment scores show up roughly as frequently in the data.\n",
    "\n",
    "What we can do here is go through each of our examples and randomly drop twits with neutral sentiment. What should be the probability we drop these twits if we want to get around 20% neutral twits starting at 50% neutral? We should also take this opportunity to remove messages with length 0."
   ]
  },
  {
   "cell_type": "code",
   "execution_count": 14,
   "metadata": {},
   "outputs": [],
   "source": [
    "balanced = {'messages': [], 'sentiments':[]}\n",
    "\n",
    "n_neutral = sum(1 for each in sentiments if each == 2)\n",
    "N_examples = len(sentiments)\n",
    "keep_prob = (N_examples - n_neutral)/4/n_neutral\n",
    "\n",
    "for idx, sentiment in enumerate(sentiments):\n",
    "    message = filtered[idx]\n",
    "    if len(message) == 0:\n",
    "        # skip this message because it has length zero\n",
    "        continue\n",
    "    elif sentiment != 2 or random.random() < keep_prob:\n",
    "        balanced['messages'].append(message)\n",
    "        balanced['sentiments'].append(sentiment) "
   ]
  },
  {
   "cell_type": "code",
   "execution_count": 15,
   "metadata": {},
   "outputs": [
    {
     "data": {
      "text/plain": [
       "0.1954936472308833"
      ]
     },
     "execution_count": 15,
     "metadata": {},
     "output_type": "execute_result"
    }
   ],
   "source": [
    "n_neutral = sum(1 for each in balanced['sentiments'] if each == 2)\n",
    "N_examples = len(balanced['sentiments'])\n",
    "n_neutral/N_examples"
   ]
  },
  {
   "cell_type": "markdown",
   "metadata": {},
   "source": [
    "Finally let's convert our tokens into integer ids which we can pass to the network."
   ]
  },
  {
   "cell_type": "code",
   "execution_count": 16,
   "metadata": {},
   "outputs": [],
   "source": [
    "token_ids = [[vocab[word] for word in message] for message in balanced['messages']]\n",
    "sentiments = balanced['sentiments']"
   ]
  },
  {
   "cell_type": "markdown",
   "metadata": {},
   "source": [
    "## Neural Network\n",
    "Now we have our vocabulary which means we can transform our tokens into ids, which are then passed to our network. So, let's define the network now!\n",
    "\n",
    "Here is a nice diagram showing the network we'd like to build: \n",
    "\n",
    "#### Embed -> RNN -> Dense -> Softmax\n",
    "### Implement the text classifier\n",
    "Before we build text classifier, \"TextClassifer\" - consists of three main parts: 1) init function `__init__` 2) forward pass `forward`  3) hidden state `init_hidden`. \n",
    "\n",
    "This network is pretty similar to the network we built expect in the  `forward` pass, we use softmax instead of sigmoid. The reason we are not using sigmoid is that the output of NN is not a binary. In our network, sentiment scores have 5 possible outcomes. We are looking for an outcome with the highest probability thus softmax is a better choice."
   ]
  },
  {
   "cell_type": "code",
   "execution_count": 17,
   "metadata": {},
   "outputs": [],
   "source": [
    "class TextClassifier(nn.Module):\n",
    "    def __init__(self, vocab_size, embed_size, lstm_size, output_size, lstm_layers=1, dropout=0.1):\n",
    "        \"\"\"\n",
    "        Initialize the model by setting up the layers.\n",
    "        \n",
    "        Parameters\n",
    "        ----------\n",
    "            vocab_size : The vocabulary size.\n",
    "            embed_size : The embedding layer size.\n",
    "            lstm_size : The LSTM layer size.\n",
    "            output_size : The output size.\n",
    "            lstm_layers : The number of LSTM layers.\n",
    "            dropout : The dropout probability.\n",
    "        \"\"\"\n",
    "        \n",
    "        super().__init__()\n",
    "        self.vocab_size = vocab_size\n",
    "        self.embed_size = embed_size\n",
    "        self.lstm_size = lstm_size\n",
    "        self.output_size = output_size\n",
    "        self.lstm_layers = lstm_layers\n",
    "        self.dropout = dropout\n",
    "        \n",
    "        # TODO Implement\n",
    "\n",
    "        # Setup embedding layer\n",
    "        self.embedding = nn.Embedding(self.vocab_size,self.embed_size)\n",
    "        \n",
    "        \n",
    "        # Setup additional layers\n",
    "        self.lstm = nn.LSTM(input_size=self.embed_size,\n",
    "                            hidden_size=self.lstm_size,\n",
    "                            num_layers=self.lstm_layers,\n",
    "                            batch_first=False,\n",
    "                            dropout=self.dropout)\n",
    "        \n",
    "        self.dropout = nn.Dropout(0.2)\n",
    "        self.fc = nn.Linear(lstm_size, output_size)\n",
    "        self.activation = nn.LogSoftmax(dim=1)\n",
    "\n",
    "\n",
    "    def init_hidden(self, batch_size):\n",
    "        \"\"\" \n",
    "        Initializes hidden state\n",
    "        \n",
    "        Parameters\n",
    "        ----------\n",
    "            batch_size : The size of batches.\n",
    "        \n",
    "        Returns\n",
    "        -------\n",
    "            hidden_state\n",
    "            \n",
    "        \"\"\"\n",
    "        \n",
    "        # TODO Implement \n",
    "        \n",
    "        # Create two new tensors with sizes n_layers x batch_size x hidden_dim,\n",
    "        # initialized to zero, for hidden state and cell state of LSTM\n",
    "        weight = next(self.parameters()).data\n",
    "        hidden = (weight.new(self.lstm_layers, batch_size, self.lstm_size).zero_(),\\\n",
    "                  weight.new(self.lstm_layers, batch_size, self.lstm_size).zero_())\n",
    "        \n",
    "        return hidden\n",
    "\n",
    "\n",
    "    def forward(self, nn_input, hidden_state):\n",
    "        \"\"\"\n",
    "        Perform a forward pass of our model on nn_input.\n",
    "        \n",
    "        Parameters\n",
    "        ----------\n",
    "            nn_input : The batch of input to the NN.\n",
    "            hidden_state : The LSTM hidden state.\n",
    "\n",
    "        Returns\n",
    "        -------\n",
    "            logps: log softmax output\n",
    "            hidden_state: The new hidden state.\n",
    "\n",
    "        \"\"\"\n",
    "        \n",
    "#       TODO Implement \n",
    "        \n",
    "        #shape of embeds output=(seq_length,N,emdeddingsize)\n",
    "        nn_input = nn_input.long()\n",
    "        embeds = self.embedding(nn_input)\n",
    "        #shape of lastm_out (L=5,N=4,h_out=6)\n",
    "        lstm_out, hidden = self.lstm(embeds, hidden_state)\n",
    "        #take the lstm_output corresponding to last sequence: -1 in the first dimension\n",
    "        #lstm_out has dimension 4*6 where 4 is the batch size & 6 is the hidden state\n",
    "        lstm_out = lstm_out[-1,:,:]\n",
    "        #apply dropout to the output layer\n",
    "        out = self.dropout(lstm_out)\n",
    "        #apply FC Layer\n",
    "        out = self.fc(out)\n",
    "        #output now has size num_batches*numberof sentiments; apply final activation to yield log probabilities\n",
    "        logps_out = self.activation(out)\n",
    "        \n",
    "        return logps_out, hidden"
   ]
  },
  {
   "cell_type": "markdown",
   "metadata": {},
   "source": [
    "### View Model"
   ]
  },
  {
   "cell_type": "code",
   "execution_count": 18,
   "metadata": {
    "scrolled": true
   },
   "outputs": [
    {
     "name": "stdout",
     "output_type": "stream",
     "text": [
      "tensor([[ 108,  659,  617,  492],\n",
      "        [ 357,  933,   51,  168],\n",
      "        [ 162,  754,  861,  789],\n",
      "        [ 852,  128,   14,  622],\n",
      "        [ 167,   73,  171,  810]])\n",
      "\n",
      " Logits\n",
      "\n",
      "tensor([[-1.2788, -1.7109, -1.4725, -1.7512, -1.9803],\n",
      "        [-1.4590, -1.7689, -1.3108, -1.6312, -2.0271],\n",
      "        [-1.3400, -1.7280, -1.3824, -1.7583, -1.9863],\n",
      "        [-1.3351, -1.7244, -1.3825, -1.7668, -1.9894]])\n",
      "\n",
      " Probabilities\n",
      "\n",
      "tensor([[ 0.2784,  0.1807,  0.2293,  0.1736,  0.1380],\n",
      "        [ 0.2325,  0.1705,  0.2696,  0.1957,  0.1317],\n",
      "        [ 0.2618,  0.1776,  0.2510,  0.1723,  0.1372],\n",
      "        [ 0.2631,  0.1783,  0.2509,  0.1709,  0.1368]])\n"
     ]
    }
   ],
   "source": [
    "model = TextClassifier(len(vocab), 10, 6, 5, dropout=0.1, lstm_layers=2)\n",
    "model.embedding.weight.data.uniform_(-1, 1)\n",
    "input = torch.randint(0, 1000, (5, 4), dtype=torch.int64)\n",
    "hidden = model.init_hidden(4)\n",
    "print(input)\n",
    "logps, _ = model.forward(input, hidden)\n",
    "print('\\n Logits\\n')\n",
    "print(logps)\n",
    "print('\\n Probabilities\\n')\n",
    "print(torch.exp(logps))\n",
    "#vocabsize ~ 10k\n",
    "#embedsize=10\n",
    "#lstim_size/hiddensize=6\n",
    "#output_size=5"
   ]
  },
  {
   "cell_type": "markdown",
   "metadata": {},
   "source": [
    "## Training\n",
    "### DataLoaders and Batching\n",
    "Now we should build a generator that we can use to loop through our data. It'll be more efficient if we can pass our sequences in as batches. Our input tensors should look like `(sequence_length, batch_size)`. So if our sequences are 40 tokens long and we pass in 25 sequences, then we'd have an input size of `(40, 25)`.\n",
    "\n",
    "If we set our sequence length to 40, what do we do with messages that are more or less than 40 tokens? For messages with fewer than 40 tokens, we will pad the empty spots with zeros. We should be sure to **left** pad so that the RNN starts from nothing before going through the data. If the message has 20 tokens, then the first 20 spots of our 40 long sequence will be 0. If a message has more than 40 tokens, we'll just keep the first 40 tokens."
   ]
  },
  {
   "cell_type": "code",
   "execution_count": 19,
   "metadata": {},
   "outputs": [],
   "source": [
    "def dataloader(messages, labels, sequence_length=30, batch_size=32, shuffle=False):\n",
    "    \"\"\" \n",
    "    Build a dataloader.\n",
    "    \"\"\"\n",
    "    if shuffle:\n",
    "        indices = list(range(len(messages)))\n",
    "        random.shuffle(indices)\n",
    "        messages = [messages[idx] for idx in indices]\n",
    "        labels = [labels[idx] for idx in indices]\n",
    "\n",
    "    total_sequences = len(messages)\n",
    "    print()\n",
    "    for ii in range(0, total_sequences, batch_size):\n",
    "        batch_messages = messages[ii: ii+batch_size]\n",
    "        \n",
    "        # First initialize a tensor of all zeros\n",
    "        batch = torch.zeros((sequence_length, len(batch_messages)), dtype=torch.int64)\n",
    "        for batch_num, tokens in enumerate(batch_messages):\n",
    "            token_tensor = torch.tensor(tokens)\n",
    "            # Left pad!\n",
    "            start_idx = max(sequence_length - len(token_tensor), 0)\n",
    "            batch[start_idx:, batch_num] = token_tensor[:sequence_length]\n",
    "        \n",
    "        label_tensor = torch.tensor(labels[ii: ii+len(batch_messages)])\n",
    "        \n",
    "        yield batch, label_tensor"
   ]
  },
  {
   "cell_type": "markdown",
   "metadata": {},
   "source": [
    "### Training and  Validation\n",
    "With our data in nice shape, we'll split it into training and validation sets."
   ]
  },
  {
   "cell_type": "code",
   "execution_count": 20,
   "metadata": {},
   "outputs": [],
   "source": [
    "\"\"\"\n",
    "Split data into training and validation datasets. Use an appropriate split size.\n",
    "The features are the `token_ids` and the labels are the `sentiments`.\n",
    "\"\"\"   \n",
    "\n",
    "# TODO Implement \n",
    "\n",
    "train_features = token_ids[:int(0.8*len(token_ids))]\n",
    "valid_features = token_ids[int(0.8*len(token_ids)):]\n",
    "train_labels = sentiments[:int(0.8*len(token_ids))]\n",
    "valid_labels = sentiments[int(0.8*len(token_ids)):]\n",
    "#print(len(train_features))\n",
    "#print(len(train_labels))\n",
    "#print(len(valid_features))\n",
    "#print(len(valid_labels))"
   ]
  },
  {
   "cell_type": "code",
   "execution_count": 21,
   "metadata": {
    "scrolled": true
   },
   "outputs": [
    {
     "name": "stdout",
     "output_type": "stream",
     "text": [
      "\n"
     ]
    },
    {
     "data": {
      "text/plain": [
       "tensor(-517.3613)"
      ]
     },
     "execution_count": 21,
     "metadata": {},
     "output_type": "execute_result"
    }
   ],
   "source": [
    "text_batch, labels = next(iter(dataloader(train_features, train_labels, sequence_length=20, batch_size=64)))\n",
    "model = TextClassifier(len(vocab)+1, 200, 128, 5, dropout=0.)\n",
    "hidden = model.init_hidden(64)\n",
    "logps, hidden = model.forward(text_batch, hidden)\n",
    "torch.sum(logps)"
   ]
  },
  {
   "cell_type": "markdown",
   "metadata": {},
   "source": [
    "### Training\n",
    "It's time to train the neural network!"
   ]
  },
  {
   "cell_type": "code",
   "execution_count": 22,
   "metadata": {},
   "outputs": [
    {
     "data": {
      "text/plain": [
       "TextClassifier(\n",
       "  (embedding): Embedding(43273, 1024)\n",
       "  (lstm): LSTM(1024, 512, num_layers=2, dropout=0.2)\n",
       "  (dropout): Dropout(p=0.2)\n",
       "  (fc): Linear(in_features=512, out_features=5, bias=True)\n",
       "  (activation): LogSoftmax()\n",
       ")"
      ]
     },
     "execution_count": 22,
     "metadata": {},
     "output_type": "execute_result"
    }
   ],
   "source": [
    "device = torch.device(\"cuda\" if torch.cuda.is_available() else \"cpu\")\n",
    "\n",
    "model = TextClassifier(len(vocab)+1, 1024, 512, 5, lstm_layers=2, dropout=0.2)\n",
    "model.embedding.weight.data.uniform_(-1, 1)\n",
    "model.to(device)"
   ]
  },
  {
   "cell_type": "code",
   "execution_count": 23,
   "metadata": {},
   "outputs": [
    {
     "data": {
      "text/plain": [
       "device(type='cuda')"
      ]
     },
     "execution_count": 23,
     "metadata": {},
     "output_type": "execute_result"
    }
   ],
   "source": [
    "device"
   ]
  },
  {
   "cell_type": "code",
   "execution_count": 24,
   "metadata": {
    "scrolled": false
   },
   "outputs": [
    {
     "name": "stdout",
     "output_type": "stream",
     "text": [
      "Starting epoch 1\n",
      "\n",
      "\n",
      "Epoch1/3\n",
      "Steps 400\n",
      "Training Loss: 1.2408673763275146\n",
      "Validation Loss: 2.0579108024031165\n",
      "Validation accuracy: 0.5239075203252033\n",
      "\n",
      "Epoch1/3\n",
      "Steps 800\n",
      "Training Loss: 0.7705622315406799\n",
      "Validation Loss: 2.5307984525595253\n",
      "Validation accuracy: 0.5763719512195122\n",
      "\n",
      "Epoch1/3\n",
      "Steps 1200\n",
      "Training Loss: 0.7824156284332275\n",
      "Validation Loss: 2.359941737341687\n",
      "Validation accuracy: 0.6009908536585366\n",
      "\n",
      "Epoch1/3\n",
      "Steps 1600\n",
      "Training Loss: 0.6723355650901794\n",
      "Validation Loss: 2.298097388434216\n",
      "Validation accuracy: 0.6198170731707318\n",
      "\n",
      "Epoch1/3\n",
      "Steps 2000\n",
      "Training Loss: 0.807261049747467\n",
      "Validation Loss: 2.531662067359056\n",
      "Validation accuracy: 0.6276422764227643\n",
      "\n",
      "Epoch1/3\n",
      "Steps 2400\n",
      "Training Loss: 1.017372727394104\n",
      "Validation Loss: 2.6920215201571707\n",
      "Validation accuracy: 0.6414126016260162\n",
      "\n",
      "Epoch1/3\n",
      "Steps 2800\n",
      "Training Loss: 0.9910310506820679\n",
      "Validation Loss: 2.9532981089460173\n",
      "Validation accuracy: 0.640625\n",
      "\n",
      "Epoch1/3\n",
      "Steps 3200\n",
      "Training Loss: 1.2150459289550781\n",
      "Validation Loss: 2.5838878176076627\n",
      "Validation accuracy: 0.6507621951219512\n",
      "\n",
      "Epoch1/3\n",
      "Steps 3600\n",
      "Training Loss: 1.1144542694091797\n",
      "Validation Loss: 2.864073644227129\n",
      "Validation accuracy: 0.6539126016260163\n",
      "\n",
      "Epoch1/3\n",
      "Steps 4000\n",
      "Training Loss: 0.9762176275253296\n",
      "Validation Loss: 2.671536133153652\n",
      "Validation accuracy: 0.6571392276422764\n",
      "\n",
      "Epoch1/3\n",
      "Steps 4400\n",
      "Training Loss: 0.8052492737770081\n",
      "Validation Loss: 2.58945143988462\n",
      "Validation accuracy: 0.6586636178861789\n",
      "\n",
      "Epoch1/3\n",
      "Steps 4800\n",
      "Training Loss: 0.692305326461792\n",
      "Validation Loss: 3.101191815031253\n",
      "Validation accuracy: 0.6616361788617886\n",
      "Starting epoch 2\n",
      "\n",
      "\n",
      "Epoch2/3\n",
      "Steps 400\n",
      "Training Loss: 0.8122771978378296\n",
      "Validation Loss: 3.202991252604539\n",
      "Validation accuracy: 0.6616615853658536\n",
      "\n",
      "Epoch2/3\n",
      "Steps 800\n",
      "Training Loss: 0.5821628570556641\n",
      "Validation Loss: 3.19359956495161\n",
      "Validation accuracy: 0.6595274390243903\n",
      "\n",
      "Epoch2/3\n",
      "Steps 1200\n",
      "Training Loss: 0.5106148719787598\n",
      "Validation Loss: 3.054050767712477\n",
      "Validation accuracy: 0.6611788617886178\n",
      "\n",
      "Epoch2/3\n",
      "Steps 1600\n",
      "Training Loss: 0.7987855076789856\n",
      "Validation Loss: 3.1472889415616914\n",
      "Validation accuracy: 0.6585873983739837\n",
      "\n",
      "Epoch2/3\n",
      "Steps 2000\n",
      "Training Loss: 0.4866146445274353\n",
      "Validation Loss: 3.3305023347459186\n",
      "Validation accuracy: 0.6601626016260163\n",
      "\n",
      "Epoch2/3\n",
      "Steps 2400\n",
      "Training Loss: 0.8112468719482422\n",
      "Validation Loss: 3.2597315073982487\n",
      "Validation accuracy: 0.6644563008130081\n",
      "\n",
      "Epoch2/3\n",
      "Steps 2800\n",
      "Training Loss: 0.744388997554779\n",
      "Validation Loss: 3.2022147379270414\n",
      "Validation accuracy: 0.6573678861788618\n",
      "\n",
      "Epoch2/3\n",
      "Steps 3200\n",
      "Training Loss: 0.4720134735107422\n",
      "Validation Loss: 3.2953250374251266\n",
      "Validation accuracy: 0.6693343495934959\n",
      "\n",
      "Epoch2/3\n",
      "Steps 3600\n",
      "Training Loss: 0.6003513932228088\n",
      "Validation Loss: 3.208600797304293\n",
      "Validation accuracy: 0.668140243902439\n",
      "\n",
      "Epoch2/3\n",
      "Steps 4000\n",
      "Training Loss: 0.7820908427238464\n",
      "Validation Loss: 3.7504134397196576\n",
      "Validation accuracy: 0.6692581300813009\n",
      "\n",
      "Epoch2/3\n",
      "Steps 4400\n",
      "Training Loss: 0.9829862713813782\n",
      "Validation Loss: 3.180230936868404\n",
      "Validation accuracy: 0.6666666666666666\n",
      "\n",
      "Epoch2/3\n",
      "Steps 4800\n",
      "Training Loss: 0.592518150806427\n",
      "Validation Loss: 3.22582330723119\n",
      "Validation accuracy: 0.6661331300813008\n",
      "Starting epoch 3\n",
      "\n",
      "\n",
      "Epoch3/3\n",
      "Steps 400\n",
      "Training Loss: 0.6379492282867432\n",
      "Validation Loss: 4.225609805719639\n",
      "Validation accuracy: 0.6627286585365854\n",
      "\n",
      "Epoch3/3\n",
      "Steps 800\n",
      "Training Loss: 0.4652460813522339\n",
      "Validation Loss: 3.337444189021258\n",
      "Validation accuracy: 0.6569613821138212\n",
      "\n",
      "Epoch3/3\n",
      "Steps 1200\n",
      "Training Loss: 0.8412480354309082\n",
      "Validation Loss: 3.678698793465529\n",
      "Validation accuracy: 0.6582317073170731\n",
      "\n",
      "Epoch3/3\n",
      "Steps 1600\n",
      "Training Loss: 0.3422902524471283\n",
      "Validation Loss: 3.7852146073085504\n",
      "Validation accuracy: 0.6566819105691057\n",
      "\n",
      "Epoch3/3\n",
      "Steps 2000\n",
      "Training Loss: 0.5809071063995361\n",
      "Validation Loss: 3.766398297868124\n",
      "Validation accuracy: 0.6546239837398374\n",
      "\n",
      "Epoch3/3\n",
      "Steps 2400\n",
      "Training Loss: 0.5298048257827759\n",
      "Validation Loss: 3.583055778829063\n",
      "Validation accuracy: 0.6559197154471544\n",
      "\n",
      "Epoch3/3\n",
      "Steps 2800\n",
      "Training Loss: 0.69716876745224\n",
      "Validation Loss: 3.976756205016035\n",
      "Validation accuracy: 0.6622459349593496\n",
      "\n",
      "Epoch3/3\n",
      "Steps 3200\n",
      "Training Loss: 0.4703354835510254\n",
      "Validation Loss: 3.581346902905441\n",
      "Validation accuracy: 0.6597815040650407\n",
      "\n",
      "Epoch3/3\n",
      "Steps 3600\n",
      "Training Loss: 0.494865357875824\n",
      "Validation Loss: 4.06518203010404\n",
      "Validation accuracy: 0.6646341463414634\n",
      "\n",
      "Epoch3/3\n",
      "Steps 4000\n",
      "Training Loss: 0.46380335092544556\n",
      "Validation Loss: 4.036819733352196\n",
      "Validation accuracy: 0.6603912601626016\n",
      "\n",
      "Epoch3/3\n",
      "Steps 4400\n",
      "Training Loss: 0.6108325719833374\n",
      "Validation Loss: 3.779134079498973\n",
      "Validation accuracy: 0.6638465447154471\n",
      "\n",
      "Epoch3/3\n",
      "Steps 4800\n",
      "Training Loss: 0.6315975189208984\n",
      "Validation Loss: 3.592662306917392\n",
      "Validation accuracy: 0.6626016260162602\n"
     ]
    }
   ],
   "source": [
    "\"\"\"\n",
    "Train  model with dropout. Clip gradients to avoid divergences in optimisation.\n",
    "Print the training loss, validation loss, and validation accuracy for every 100 steps.\n",
    "\"\"\"\n",
    "import numpy as np\n",
    "epochs = 3\n",
    "batch_size = 32\n",
    "learning_rate = 0.001\n",
    "\n",
    "print_every = 400\n",
    "criterion = nn.NLLLoss()\n",
    "optimizer = optim.Adam(model.parameters(), lr=learning_rate)\n",
    "model.train()\n",
    "\n",
    "for epoch in range(epochs):\n",
    "    print('Starting epoch {}'.format(epoch + 1))\n",
    "    \n",
    "    hidden = model.init_hidden(batch_size=batch_size)\n",
    "    steps = 0\n",
    "    \n",
    "    for text_batch, labels in dataloader(\n",
    "            train_features, train_labels, batch_size=batch_size, sequence_length=20, shuffle=True):\n",
    "        \n",
    "        if text_batch.shape[1]!=batch_size:\n",
    "            break\n",
    "        \n",
    "        steps += 1\n",
    "        hidden = tuple([each.data for each in hidden])\n",
    "        #print(f'step{steps}')\n",
    "        # Set Device\n",
    "        text_batch, labels = text_batch.to(device), labels.to(device)\n",
    "        for each in hidden:\n",
    "            each.to(device)\n",
    "        \n",
    "        # TODO Implement: Train Model\n",
    "        \n",
    "        model.zero_grad()\n",
    "        output, hidden = model(text_batch, hidden)\n",
    "        loss = criterion(output, labels)\n",
    "        \n",
    "        loss.backward()\n",
    "        nn.utils.clip_grad_norm_(model.parameters(), 5)\n",
    "        optimizer.step()\n",
    "        \n",
    "        # End of Model Training\n",
    "        \n",
    "        if steps % print_every == 0:\n",
    "            \n",
    "            model.eval()\n",
    "            val_steps=0\n",
    "            \n",
    "            #repeat steps for validation in eval model\n",
    "            val_h = model.init_hidden(batch_size)\n",
    "            val_losses=[]\n",
    "            val_accuracy=[]\n",
    "            \n",
    "            for val_batch, val_labels in dataloader(\n",
    "                    valid_features, valid_labels, batch_size=batch_size, sequence_length=20, shuffle=False):\n",
    "                \n",
    "                if val_batch.shape[1]!=batch_size:\n",
    "                    break\n",
    "                \n",
    "                val_steps+=1\n",
    "                #print(f'Validation step {val_steps}')\n",
    "                \n",
    "                val_h = tuple([each.data for each in val_h])\n",
    "                val_batch, val_labels = val_batch.to(device), val_labels.to(device)\n",
    "                val_output, val_h = model(val_batch, val_h)\n",
    "                #print()\n",
    "                \n",
    "                for each in val_h:\n",
    "                    each.to(device)\n",
    "                    \n",
    "                val_loss = criterion(val_output, labels)\n",
    "                val_losses.append(val_loss.item())\n",
    "                \n",
    "                #Accuracy\n",
    "                val_ps = torch.exp(val_output)\n",
    "                val_ps_top, val_labels_pred = val_ps.topk(1,dim=1)\n",
    "                equals = val_labels_pred == val_labels.view(*val_labels_pred.shape)\n",
    "                val_accuracy.append(torch.mean(equals.type(torch.FloatTensor)).item())\n",
    "            \n",
    "            # TODO Implement: Print metrics\n",
    "            \n",
    "            model.train()\n",
    "            print(f'Epoch{epoch+1}/{epochs}')\n",
    "            print(f'Steps {steps}')\n",
    "            print(f'Training Loss: {loss.item()}')\n",
    "            print(f'Validation Loss: {np.mean(val_losses)}')\n",
    "            print(f'Validation accuracy: {np.mean(val_accuracy)}')\n",
    "    "
   ]
  },
  {
   "cell_type": "markdown",
   "metadata": {},
   "source": [
    "## Making Predictions\n",
    "### Prediction \n",
    "Okay, now that we have a trained model, try it on some new twits and see if it works appropriately. Remember that for any new text, you'll need to preprocess it first before passing it to the network. Implement the `predict` function to generate the prediction vector from a message."
   ]
  },
  {
   "cell_type": "code",
   "execution_count": 25,
   "metadata": {},
   "outputs": [],
   "source": [
    "def predict(text, model, vocab):\n",
    "    \"\"\" \n",
    "    Make a prediction on a single sentence.\n",
    "\n",
    "    Parameters\n",
    "    ----------\n",
    "        text : The string to make a prediction on.\n",
    "        model : The model to use for making the prediction.\n",
    "        vocab : Dictionary for word to word ids. The key is the word and the value is the word id.\n",
    "\n",
    "    Returns\n",
    "    -------\n",
    "        pred : Prediction vector\n",
    "    \"\"\"    \n",
    "    \n",
    "    # TODO Implement\n",
    "    \n",
    "    tokens = preprocess(text)\n",
    "    \n",
    "    # Filter non-vocab words\n",
    "    tokens = [word for word in tokens if word in filtered_words]\n",
    "    \n",
    "    # Convert words to ids\n",
    "    tokens = [vocab[word] for word in tokens]\n",
    "        \n",
    "    # Adding a batch dimension\n",
    "    text_input = torch.tensor(tokens).view(-1,1)\n",
    "    print(text_input)\n",
    "    # Get the NN output\n",
    "    \n",
    "    hidden = model.init_hidden(1)\n",
    "    logps, _ = model.forward(text_input, hidden)\n",
    "    \n",
    "    # Take the exponent of the NN output to get a range of 0 to 1 for each label.\n",
    "    pred = torch.exp(logps)\n",
    "    \n",
    "    return pred"
   ]
  },
  {
   "cell_type": "code",
   "execution_count": 33,
   "metadata": {},
   "outputs": [
    {
     "name": "stdout",
     "output_type": "stream",
     "text": [
      "tensor([[  340],\n",
      "        [ 3206],\n",
      "        [ 9651],\n",
      "        [ 1164],\n",
      "        [ 3031],\n",
      "        [  539],\n",
      "        [  155]])\n"
     ]
    },
    {
     "data": {
      "text/plain": [
       "tensor([[ 0.0002,  0.0023,  0.0089,  0.8781,  0.1105]])"
      ]
     },
     "execution_count": 33,
     "metadata": {},
     "output_type": "execute_result"
    }
   ],
   "source": [
    "text = \"Google is working on self driving cars, I'm bullish on $goog\"\n",
    "model.eval()\n",
    "model.to(\"cpu\")\n",
    "predict(text, model, vocab)"
   ]
  },
  {
   "cell_type": "markdown",
   "metadata": {},
   "source": [
    "### Questions: What is the prediction of the model? What is the uncertainty of the prediction?\n",
    "The model suggests that the prediction for test \"Google is working on self driving cars, I'm bullish on $goog\", belongs to sentiment 3 (in scaled terms) with a prediction probability of ~88%"
   ]
  },
  {
   "cell_type": "markdown",
   "metadata": {},
   "source": [
    "Now we have a trained model and we can make predictions. We can use this model to track the sentiments of various stocks by predicting the sentiments of twits as they are coming in. Now we have a stream of twits. For each of those twits, pull out the stocks mentioned in them and keep track of the sentiments. Remember that in the twits, ticker symbols are encoded with a dollar sign as the first character, all caps, and 2-4 letters, like $AAPL. Ideally, I'd want to track the sentiments of the stocks in my universe and use this as a signal in larger pipelines.\n",
    "\n",
    "## Testing\n",
    "### Load the Data "
   ]
  },
  {
   "cell_type": "code",
   "execution_count": 34,
   "metadata": {},
   "outputs": [],
   "source": [
    "with open(os.path.join('..', '..', 'data', 'project_6_stocktwits', 'test_twits.json'), 'r') as f:\n",
    "    test_data = json.load(f)"
   ]
  },
  {
   "cell_type": "markdown",
   "metadata": {},
   "source": [
    "### Twit Stream"
   ]
  },
  {
   "cell_type": "code",
   "execution_count": 35,
   "metadata": {},
   "outputs": [
    {
     "data": {
      "text/plain": [
       "{'message_body': '$JWN has moved -1.69% on 10-31. Check out the movement and peers at  https://dividendbot.com?s=JWN',\n",
       " 'timestamp': '2018-11-01T00:00:05Z'}"
      ]
     },
     "execution_count": 35,
     "metadata": {},
     "output_type": "execute_result"
    }
   ],
   "source": [
    "def twit_stream():\n",
    "    for twit in test_data['data']:\n",
    "        yield twit\n",
    "\n",
    "next(twit_stream())"
   ]
  },
  {
   "cell_type": "markdown",
   "metadata": {},
   "source": [
    "Using the `prediction` function, let's apply it to a stream of twits."
   ]
  },
  {
   "cell_type": "code",
   "execution_count": 36,
   "metadata": {},
   "outputs": [],
   "source": [
    "def score_twits(stream, model, vocab, universe):\n",
    "    \"\"\" \n",
    "    Given a stream of twits and a universe of tickers, return sentiment scores for tickers in the universe.\n",
    "    \"\"\"\n",
    "    for twit in stream:\n",
    "\n",
    "        # Get the message text\n",
    "        text = twit['message_body']\n",
    "        symbols = re.findall('\\$[A-Z]{2,4}', text)\n",
    "        score = predict(text, model, vocab)\n",
    "\n",
    "        for symbol in symbols:\n",
    "            if symbol in universe:\n",
    "                yield {'symbol': symbol, 'score': score, 'timestamp': twit['timestamp']}"
   ]
  },
  {
   "cell_type": "code",
   "execution_count": 37,
   "metadata": {},
   "outputs": [
    {
     "name": "stdout",
     "output_type": "stream",
     "text": [
      "tensor([[  115],\n",
      "        [  116],\n",
      "        [  117],\n",
      "        [   34],\n",
      "        [  118],\n",
      "        [  119],\n",
      "        [ 1711]])\n",
      "tensor([[ 16845],\n",
      "        [   263],\n",
      "        [   200],\n",
      "        [  5687],\n",
      "        [  2008],\n",
      "        [   127],\n",
      "        [   134],\n",
      "        [   910],\n",
      "        [ 16845],\n",
      "        [    57],\n",
      "        [  3044],\n",
      "        [   549],\n",
      "        [   110],\n",
      "        [    45],\n",
      "        [   316],\n",
      "        [  1036],\n",
      "        [   124]])\n",
      "tensor([[   61],\n",
      "        [ 1413]])\n"
     ]
    },
    {
     "data": {
      "text/plain": [
       "{'symbol': '$AAPL',\n",
       " 'score': tensor([[ 0.2691,  0.3062,  0.0678,  0.2385,  0.1184]]),\n",
       " 'timestamp': '2018-11-01T00:00:18Z'}"
      ]
     },
     "execution_count": 37,
     "metadata": {},
     "output_type": "execute_result"
    }
   ],
   "source": [
    "universe = {'$BBRY', '$AAPL', '$AMZN', '$BABA', '$YHOO', '$LQMT', '$FB', '$GOOG', '$BBBY', '$JNUG', '$SBUX', '$MU'}\n",
    "score_stream = score_twits(twit_stream(), model, vocab, universe)\n",
    "\n",
    "next(score_stream)"
   ]
  }
 ],
 "metadata": {
  "kernelspec": {
   "display_name": "Python 3 (ipykernel)",
   "language": "python",
   "name": "python3"
  },
  "language_info": {
   "codemirror_mode": {
    "name": "ipython",
    "version": 3
   },
   "file_extension": ".py",
   "mimetype": "text/x-python",
   "name": "python",
   "nbconvert_exporter": "python",
   "pygments_lexer": "ipython3",
   "version": "3.9.7"
  }
 },
 "nbformat": 4,
 "nbformat_minor": 2
}
